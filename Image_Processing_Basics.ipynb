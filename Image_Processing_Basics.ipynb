{
 "cells": [
  {
   "cell_type": "markdown",
   "metadata": {},
   "source": [
    "# Processing Images\n",
    "As far as computers are concerned, images are simply numerical data representations. You can use statistical techniques to manipulate and analyze the numerical properties of images.\n",
    "\n",
    "## Loading and Displaying an Image\n",
    "Let's start by loading a JPG file and examining its properties. Run the following cell to load and display an image using the **matplotlib.image** library."
   ]
  },
  {
   "cell_type": "code",
   "execution_count": null,
   "metadata": {},
   "outputs": [],
   "source": [
    "from matplotlib import image as mpimg\n",
    "from matplotlib import pyplot as plt\n",
    "import numpy as np\n",
    "%matplotlib inline\n",
    "\n",
    "img1 = mpimg.imread('data/graeme.jpg')\n",
    "plt.imshow(img1)\n",
    "type(img1)"
   ]
  },
  {
   "cell_type": "markdown",
   "metadata": {},
   "source": [
    "So we can see the file is definitely an image, but note that the data type of the **img1** object is actually a multidimensional numpy array.\n",
    "\n",
    "Let's take a closer look at the shape of this array:"
   ]
  },
  {
   "cell_type": "code",
   "execution_count": null,
   "metadata": {},
   "outputs": [],
   "source": [
    "img1.shape"
   ]
  },
  {
   "cell_type": "markdown",
   "metadata": {},
   "source": [
    "The image is actually composed of three \"layers, or *channels*, for red, green, and blue (RGB) pixel intensities. Each layer of the image represents 433 x 650 pixels (the dimensions of the image).\n",
    "\n",
    "Now let's load and display the same image but this time we'll use another popular Python library for working with images - **cv2**."
   ]
  },
  {
   "cell_type": "code",
   "execution_count": null,
   "metadata": {},
   "outputs": [],
   "source": [
    "import cv2\n",
    "import matplotlib.pyplot as plt\n",
    "import numpy as np\n",
    "%matplotlib inline\n",
    "\n",
    "img2 = cv2.imread('data/graeme.jpg')\n",
    "plt.imshow(img2)\n",
    "type(img2)"
   ]
  },
  {
   "cell_type": "markdown",
   "metadata": {},
   "source": [
    "Once again we've got a multidimensional array; but unless Graeme has joined the Blue Man Group (or possibly the Smurfs), there's something a bit wrong here!\n",
    "\n",
    "The trouble is that cv2 loads the array of image data with the channels ordered as blue, green, red (BGR) instead of red, green blue (RGB). Let's fix that:"
   ]
  },
  {
   "cell_type": "code",
   "execution_count": null,
   "metadata": {},
   "outputs": [],
   "source": [
    "img2 = cv2.cvtColor(img2, cv2.COLOR_BGR2RGB)\n",
    "plt.imshow(img2)"
   ]
  },
  {
   "cell_type": "markdown",
   "metadata": {},
   "source": [
    "That's better - now the image is a numpy array with 3 dimensions for red, green, and blue.\n",
    "\n",
    "There's one more commonly used library for image processing in Python we should consider - **PIL**:"
   ]
  },
  {
   "cell_type": "code",
   "execution_count": null,
   "metadata": {},
   "outputs": [],
   "source": [
    "from PIL import Image\n",
    "import matplotlib.pyplot as plt\n",
    "%matplotlib inline\n",
    "\n",
    "img3 = Image.open('data/graeme.jpg')\n",
    "plt.imshow(img3)\n",
    "type(img3)"
   ]
  },
  {
   "cell_type": "markdown",
   "metadata": {},
   "source": [
    "This time, the data type is a JpegImageFile - not a numpy array. That's great if we only want to manipulate it using PIL methods; but sometimes we'll want to be flexible and process images using mulitple libraries; so we need a consistent format.\n",
    "\n",
    "Fortunately, it's easy to convert a PIL JpegImageFile to a numpy array:"
   ]
  },
  {
   "cell_type": "code",
   "execution_count": null,
   "metadata": {},
   "outputs": [],
   "source": [
    "import numpy as np\n",
    "\n",
    "img3 = np.array(img3)\n",
    "img3.shape"
   ]
  },
  {
   "cell_type": "markdown",
   "metadata": {},
   "source": [
    "So fundamentally, the common format for image libraries is a numpy array. Using this as the standard format for your image processing workflow, converting to and from other formats as required, is the best way to take advantage of the particular strengths in each library while keeping your code consistent.\n",
    "\n",
    "You can even save a numpy array in an optimized format, should you need to persist images into storage:"
   ]
  },
  {
   "cell_type": "code",
   "execution_count": null,
   "metadata": {},
   "outputs": [],
   "source": [
    "import numpy as np\n",
    "\n",
    "# Save the image\n",
    "np.save('data/img.npy', img3)\n",
    "\n",
    "#Load the image\n",
    "img3 = np.load('data/img.npy')\n",
    "\n",
    "plt.imshow(img3)"
   ]
  },
  {
   "cell_type": "markdown",
   "metadata": {},
   "source": [
    "## Resizing an Image\n",
    "One of the most common manipulations of an image is to resize it. This can be particularly important when you're preparing multiple images to train a machine learning model, as you'll generally want to ensure that all of your training images have consistent dimensions.\n",
    "\n",
    "Let's resize our image:"
   ]
  },
  {
   "cell_type": "code",
   "execution_count": null,
   "metadata": {},
   "outputs": [],
   "source": [
    "from PIL import Image, ImageOps\n",
    "import matplotlib.pyplot as plt\n",
    "%matplotlib inline\n",
    "\n",
    "# Load the image array into a PIL Image\n",
    "orig_img = Image.fromarray(img3)\n",
    "\n",
    "# Get the image size\n",
    "o_h, o_w = orig_img.size\n",
    "print('Original size:', o_h, 'x', o_w)\n",
    "\n",
    "# We'll resize this so it's 200 x 200 using the thumbnail metho\n",
    "target_size = (200,200)\n",
    "new_img = orig_img.resize(target_size)\n",
    "n_h, n_w = new_img.size\n",
    "print('New size:', n_h, 'x', n_w)\n",
    "\n",
    "# Show the original and resized images\n",
    "# Create a figure\n",
    "fig = plt.figure(figsize=(12, 12))\n",
    "\n",
    "# Subplot for original image\n",
    "a=fig.add_subplot(2,1,1)\n",
    "imgplot = plt.imshow(orig_img)\n",
    "a.set_title('Before')\n",
    "\n",
    "# Subplot for resized image\n",
    "a=fig.add_subplot(2,1,2)\n",
    "imgplot = plt.imshow(new_img)\n",
    "a.set_title('After')\n",
    "\n",
    "plt.show()\n"
   ]
  },
  {
   "cell_type": "markdown",
   "metadata": {},
   "source": [
    "Well, that worked; but notice that the image is not scaled. We resized the rectangular image to have square dimensions, and the image is skewed to fill the new size. If we want to resize the image and change its shape without distorting it, we'll need to *scale* the image so that its largest dimension fits our new desired size, and fill out any additional space with some sort of border."
   ]
  },
  {
   "cell_type": "code",
   "execution_count": null,
   "metadata": {},
   "outputs": [],
   "source": [
    "from PIL import Image, ImageOps\n",
    "\n",
    "orig_img = Image.fromarray(img3)\n",
    "\n",
    "# Get the image size\n",
    "orig_height, orig_width = orig_img.size\n",
    "print('Original size:', orig_height, 'x', orig_width)\n",
    "\n",
    "# We'll resize this so it's 200 x 200\n",
    "target_size = (200,200)\n",
    "\n",
    "# Scale the image to the new size using the thumbnail method\n",
    "scaled_img = orig_img\n",
    "scaled_img.thumbnail(target_size, Image.ANTIALIAS)\n",
    "scaled_height, scaled_width = scaled_img.size\n",
    "print('Scaled size:', scaled_height, 'x', scaled_width)\n",
    "\n",
    "# Create a new white image of the target size to be the background\n",
    "new_img = Image.new(\"RGB\", target_size, (255, 255, 255))\n",
    "\n",
    "# paste the scaled image into the center of the white background image\n",
    "new_img.paste(scaled_img, (int((target_size[0] - scaled_img.size[0]) / 2), int((target_size[1] - scaled_img.size[1]) / 2)))\n",
    "new_height, new_width = new_img.size\n",
    "print('New size:', new_height, 'x', new_width)\n",
    "\n",
    "# Show the original and resized images\n",
    "# Create a figure\n",
    "fig = plt.figure(figsize=(12, 12))\n",
    "\n",
    "# Subplot for original image\n",
    "a=fig.add_subplot(3,1,1)\n",
    "imgplot = plt.imshow(orig_img)\n",
    "a.set_title('Original')\n",
    "\n",
    "# Subplot for scaled image\n",
    "a=fig.add_subplot(3,1,2)\n",
    "imgplot = plt.imshow(scaled_img)\n",
    "a.set_title('Scaled')\n",
    "\n",
    "# Subplot for resized image\n",
    "a=fig.add_subplot(3,1,3)\n",
    "imgplot = plt.imshow(new_img)\n",
    "a.set_title('Resized')\n",
    "\n",
    "plt.show()"
   ]
  },
  {
   "cell_type": "markdown",
   "metadata": {},
   "source": [
    "## Examining Numerical Properties of the Image Array\n",
    "So we've seen that an image is inherently an array of values. Let's examine that in more detail. What type of values are in the array?"
   ]
  },
  {
   "cell_type": "code",
   "execution_count": null,
   "metadata": {},
   "outputs": [],
   "source": [
    "img3.dtype"
   ]
  },
  {
   "cell_type": "markdown",
   "metadata": {},
   "source": [
    "OK, so the array consists of 8-bit integer values. In other words, whole numbers between 0 and 255. These represent the possible pixel intensities for the RGB color channels in each pixel of the image."
   ]
  },
  {
   "cell_type": "markdown",
   "metadata": {},
   "source": [
    "Let's look at the distribution of pixel values in the image. Ideally, the image should have relatively even distribution of values, indicating good contrast and making it easier to extract analytical information.\n",
    "\n",
    "An easy way to check this is to plot a histogram."
   ]
  },
  {
   "cell_type": "code",
   "execution_count": null,
   "metadata": {},
   "outputs": [],
   "source": [
    "import matplotlib.pyplot as plt\n",
    "%matplotlib inline\n",
    "\n",
    "# Plot a histogram - we need to use ravel to \"flatten\" the 3 dimensions\n",
    "plt.hist(img3.ravel())\n",
    "plt.show()"
   ]
  },
  {
   "cell_type": "markdown",
   "metadata": {},
   "source": [
    "Another useful way to visualize the statistics of an image is as a cumulative distribution function (CDF) plot. Which shows the cumulative pixel intensity frequencies from 0 to 255."
   ]
  },
  {
   "cell_type": "code",
   "execution_count": null,
   "metadata": {},
   "outputs": [],
   "source": [
    "import matplotlib.pyplot as plt\n",
    "%matplotlib inline\n",
    "\n",
    "plt.hist(img3.ravel(), bins=255, cumulative=True)\n",
    "plt.show()"
   ]
  },
  {
   "cell_type": "markdown",
   "metadata": {},
   "source": [
    "The histogram and CDF for our image show pretty uneven distribution - there's a lot of contrast in the image. Ideally we should equalize the values in the images we want to analyse to try to make our images more consistent in terms of the shapes they contain irrespective of light levels.\n",
    "\n",
    "Histogram equalization is often used to improve the statistics of images. In simple terms, the histogram equalization algorithm attempts to adjust the pixel values in the image to create a more uniform distribution. The code in the cell below uses the  **exposure.equalize_hist** method from the **skimage** package to equalize the image.  "
   ]
  },
  {
   "cell_type": "code",
   "execution_count": null,
   "metadata": {},
   "outputs": [],
   "source": [
    "import matplotlib.pyplot as plt\n",
    "import matplotlib.image as mpimg\n",
    "from skimage import exposure\n",
    "%matplotlib inline\n",
    "\n",
    "img3_eq = exposure.equalize_hist(img3)\n",
    "\n",
    "# Display using matplotlib\n",
    "\n",
    "# Create a figure\n",
    "fig = plt.figure(figsize=(16, 8))\n",
    "\n",
    "# Subplot for original image\n",
    "a=fig.add_subplot(1,2,1)\n",
    "imgplot = plt.imshow(img3)\n",
    "a.set_title('Before')\n",
    "\n",
    "# Subplot for processed image\n",
    "a=fig.add_subplot(1,2,2)\n",
    "imgplot = plt.imshow(img3_eq)\n",
    "a.set_title('After')\n",
    "\n",
    "plt.show()"
   ]
  },
  {
   "cell_type": "markdown",
   "metadata": {},
   "source": [
    "As with most image operations, there's more than one way to do this. For example, you could also use the **PIL.ImgOps.equalize** method:"
   ]
  },
  {
   "cell_type": "code",
   "execution_count": null,
   "metadata": {},
   "outputs": [],
   "source": [
    "from PIL import Image, ImageOps\n",
    "%matplotlib inline\n",
    "\n",
    "# Equalize the image - but we need to convert the numpy array back to the PIL image format\n",
    "img3PIL_eq = ImageOps.equalize(Image.fromarray(img3))\n",
    "\n",
    "# Display using matplotlib\n",
    "\n",
    "# Create a figure\n",
    "fig = plt.figure(figsize=(16, 8))\n",
    "\n",
    "# Subplot for original image\n",
    "a=fig.add_subplot(1,2,1)\n",
    "imgplot = plt.imshow(img3)\n",
    "a.set_title('Before')\n",
    "\n",
    "# Subplot for processed image\n",
    "a=fig.add_subplot(1,2,2)\n",
    "imgplot = plt.imshow(img3PIL_eq)\n",
    "a.set_title('After')\n",
    "\n",
    "plt.show()"
   ]
  },
  {
   "cell_type": "markdown",
   "metadata": {},
   "source": [
    "Now let's see what that's done to the histogram and CDF plots:"
   ]
  },
  {
   "cell_type": "code",
   "execution_count": null,
   "metadata": {},
   "outputs": [],
   "source": [
    "# Display histograms\n",
    "import matplotlib.pyplot as plt\n",
    "import matplotlib.image as mpimg\n",
    "import numpy as np\n",
    "from PIL import Image\n",
    "%matplotlib inline\n",
    "\n",
    "img3_eq = np.array(img3PIL_eq)\n",
    "\n",
    "# Create a figure\n",
    "fig = plt.figure(figsize=(16, 8))\n",
    "\n",
    "# Subplot for original image\n",
    "a=fig.add_subplot(1,2,1)\n",
    "imgplot = plt.hist(img3_eq.ravel())\n",
    "a.set_title('Histogram')\n",
    "\n",
    "# Subplot for processed image\n",
    "a=fig.add_subplot(1,2,2)\n",
    "imgplot = plt.hist(img3_eq.ravel(), bins=255, cumulative=True)\n",
    "a.set_title('CDF')\n",
    "\n",
    "plt.show()"
   ]
  },
  {
   "cell_type": "markdown",
   "metadata": {},
   "source": [
    "The pixel intensities are more evenly distributed in the equalized image. In particular, the cumulative density shows a straight diagonal cumulation; which is a good sign that the pixel intensity values have been equalized."
   ]
  },
  {
   "cell_type": "markdown",
   "metadata": {},
   "source": [
    "## Denoising with Filters\n",
    "\n",
    "Often images need to be cleaned up to remove \"salt and pepper\" noise."
   ]
  },
  {
   "cell_type": "markdown",
   "metadata": {},
   "source": [
    "### Add Some Random Noise\n",
    "Let's add some random noise to our image - such as you might see in a photograph taken in low light or at a low resolution."
   ]
  },
  {
   "cell_type": "code",
   "execution_count": null,
   "metadata": {},
   "outputs": [],
   "source": [
    "import skimage\n",
    "%matplotlib inline\n",
    "\n",
    "img3_n = skimage.util.random_noise(img3_eq)\n",
    "plt.imshow(img3_n)"
   ]
  },
  {
   "cell_type": "markdown",
   "metadata": {},
   "source": [
    "### Using a Gaussian Filter\n",
    "A Gaussian filter applies a weighted average (mean) value for pixels based on the pixels that surround them."
   ]
  },
  {
   "cell_type": "code",
   "execution_count": null,
   "metadata": {},
   "outputs": [],
   "source": [
    "from scipy.ndimage.filters import gaussian_filter as gauss\n",
    "%matplotlib inline\n",
    "\n",
    "img3_gauss = gauss(img3_n, sigma=1)   \n",
    "plt.imshow(img3_gauss)"
   ]
  },
  {
   "cell_type": "markdown",
   "metadata": {},
   "source": [
    "### Using a Median Filter\n",
    "The Gaussian filter results in a blurred image, which may actually be better for feature extraction as it makes it easier to find contrasting areas. If it's too blurred, we could try a median filter, which as the name suggests applies the median value to pixels based on the pixels around them."
   ]
  },
  {
   "cell_type": "code",
   "execution_count": null,
   "metadata": {},
   "outputs": [],
   "source": [
    "from scipy.ndimage.filters import median_filter as med\n",
    "%matplotlib inline\n",
    "\n",
    "img3_med = med(img3_n, size=2)\n",
    "plt.imshow(img3_med)"
   ]
  },
  {
   "cell_type": "markdown",
   "metadata": {},
   "source": [
    "### Extract Features\n",
    "Now that we've done some initial processing of the image to improve its statistics for analysis, we can start to extract features from it.\n",
    "#### Sobel Edge Detection\n",
    "As a first step in extracting features, you will apply the Sobel edge detection algorithm. This finds regions of the image with large gradient values in multiple directions. Regions with high omnidirectional gradient are likely to be edges or transitions in the pixel values. \n",
    "\n",
    "The code in the cell below applies the Sobel algorithm to the median filtered image, using these steps:\n",
    "\n",
    "1. Convert the color image to grayscale for the gradient calculation since it is two dimensional.\n",
    "2. Compute the gradient in the x and y (horizontal and vertical) directions. \n",
    "3. Compute the magnitude of the gradient.\n",
    "4. Normalize the gradient values. \n"
   ]
  },
  {
   "cell_type": "code",
   "execution_count": null,
   "metadata": {},
   "outputs": [],
   "source": [
    "def edge_sobel(image):\n",
    "    from scipy import ndimage\n",
    "    import skimage.color as sc\n",
    "    import numpy as np\n",
    "    image = sc.rgb2gray(image) # Convert color image to gray scale\n",
    "    dx = ndimage.sobel(image, 1)  # horizontal derivative\n",
    "    dy = ndimage.sobel(image, 0)  # vertical derivative\n",
    "    mag = np.hypot(dx, dy)  # magnitude\n",
    "    mag *= 255.0 / np.amax(mag)  # normalize (Q&D)\n",
    "    mag = mag.astype(np.uint8)\n",
    "    return mag\n",
    "\n",
    "img3_edge = edge_sobel(img3_med)\n",
    "plt.imshow(img3_edge, cmap=\"gray\")"
   ]
  },
  {
   "cell_type": "markdown",
   "metadata": {},
   "source": [
    "Now let's try with the more blurred gaussian filtered image."
   ]
  },
  {
   "cell_type": "code",
   "execution_count": null,
   "metadata": {},
   "outputs": [],
   "source": [
    "img3_edge = edge_sobel(img3_gauss)\n",
    "plt.imshow(img3_edge, cmap=\"gray\")"
   ]
  },
  {
   "cell_type": "markdown",
   "metadata": {},
   "source": [
    "Note that the lines are more pronounced. Although a gaussian filter makes the image blurred to human eyes, this blurring can actually help accentuate contrasting features for computer processing."
   ]
  },
  {
   "cell_type": "markdown",
   "metadata": {},
   "source": [
    "#### Harris Corner Detection\n",
    "Another example of a feature extraction algorithm is corner detection. In simple terms, the Harris corner detection algorithm locates regions of the image with large changes in pixel values in all directions. These regions are said to be corners. The Harris corner detector is paired with the **corner_peaks** method. This operator filters the output of the Harris algorithm, over a patch of the image defined by the span of the filters, for the most likely corners."
   ]
  },
  {
   "cell_type": "code",
   "execution_count": null,
   "metadata": {},
   "outputs": [],
   "source": [
    "# Function to apply the Harris corner-detection algorithm to an image\n",
    "def corner_harr(im, min_distance = 20):\n",
    "    import skimage.color as sc\n",
    "    from skimage.feature import corner_harris, corner_peaks\n",
    "    \n",
    "    im = sc.rgb2gray(im) # Convert color image to gray scale\n",
    "    mag = corner_harris(im)\n",
    "    return corner_peaks(mag, min_distance = min_distance)\n",
    "\n",
    "# Find the corners in the median filtered image with a minimum distance of 20 pixels\n",
    "harris = corner_harr(img3_med, 20)\n",
    "\n",
    "print (harris)\n",
    "\n",
    "# Function to plot the image with the harris corners marked on it\n",
    "def plot_harris(im, harris, markersize = 20, color = 'red'):\n",
    "    import matplotlib.pyplot as plt\n",
    "    import numpy as np\n",
    "    fig = plt.figure(figsize=(6, 6))\n",
    "    fig.clf()\n",
    "    ax = fig.gca()    \n",
    "    ax.imshow(np.array(im).astype(float), cmap=\"gray\")\n",
    "    ax.plot(harris[:, 1], harris[:, 0], 'r+', color = color, markersize=markersize)\n",
    "    return 'Done'  \n",
    "\n",
    "plot_harris(img3_med, harris)"
   ]
  },
  {
   "cell_type": "markdown",
   "metadata": {},
   "source": [
    "The corner detection algorithm has identified the eyes in the image.\n",
    "\n",
    "### Learn More\n",
    "Python supports a huge range of image manipulation functions that you can use to prepare images for analysis or machine learning. The links below will take you to the documentation for some of the most common image processing packages:\n",
    "\n",
    "[matplotlib](https://matplotlib.org/)\n",
    "\n",
    "[Python Imaging Library (PIL)](http://effbot.org/imagingbook/)\n",
    "\n",
    "[OpenCV (CV2)](https://docs.opencv.org/3.1.0/index.html)"
   ]
  }
 ],
 "metadata": {
  "kernelspec": {
   "display_name": "Python 3.6",
   "language": "python",
   "name": "python36"
  },
  "language_info": {
   "codemirror_mode": {
    "name": "ipython",
    "version": 3
   },
   "file_extension": ".py",
   "mimetype": "text/x-python",
   "name": "python",
   "nbconvert_exporter": "python",
   "pygments_lexer": "ipython3",
   "version": "3.6.3"
  }
 },
 "nbformat": 4,
 "nbformat_minor": 2
}
